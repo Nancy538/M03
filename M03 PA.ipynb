{
  "metadata": {
    "kernelspec": {
      "name": "python",
      "display_name": "Python (Pyodide)",
      "language": "python"
    },
    "language_info": {
      "codemirror_mode": {
        "name": "python",
        "version": 3
      },
      "file_extension": ".py",
      "mimetype": "text/x-python",
      "name": "python",
      "nbconvert_exporter": "python",
      "pygments_lexer": "ipython3",
      "version": "3.8"
    }
  },
  "nbformat_minor": 5,
  "nbformat": 4,
  "cells": [
    {
      "id": "f794af23-b6f7-4585-b9d6-eb92349d2f83",
      "cell_type": "code",
      "source": "# 7.4\nthings = [\"mozzarella\", \"cinderella\", \"salmonella\"]\nprint(\"7.4:\", things)",
      "metadata": {
        "trusted": true
      },
      "outputs": [
        {
          "name": "stdout",
          "output_type": "stream",
          "text": "7.4: ['mozzarella', 'cinderella', 'salmonella']\n"
        }
      ],
      "execution_count": 1
    },
    {
      "id": "671116b9-27e1-41b7-b05a-011080e8dea8",
      "cell_type": "code",
      "source": "# 7.5\nthings[1] = things[1].capitalize()\nprint(\"7.5:\", things)  # Yes, it changed the element in the list",
      "metadata": {
        "trusted": true
      },
      "outputs": [
        {
          "name": "stdout",
          "output_type": "stream",
          "text": "7.5: ['mozzarella', 'Cinderella', 'salmonella']\n"
        }
      ],
      "execution_count": 2
    },
    {
      "id": "c8c9a0ba-eec5-4318-9753-92fe8840fedf",
      "cell_type": "code",
      "source": "# 7.6\nthings[0] = things[0].upper()\nprint(\"7.6:\", things)",
      "metadata": {
        "trusted": true
      },
      "outputs": [
        {
          "name": "stdout",
          "output_type": "stream",
          "text": "7.6: ['MOZZARELLA', 'Cinderella', 'salmonella']\n"
        }
      ],
      "execution_count": 3
    },
    {
      "id": "ed129df1-a60b-4f1d-aef6-9d0bd1273faf",
      "cell_type": "code",
      "source": "# 7.7\ndel things[2]\nprint(\"7.7:\", things)  # Nobel Prize, please!",
      "metadata": {
        "trusted": true
      },
      "outputs": [
        {
          "name": "stdout",
          "output_type": "stream",
          "text": "7.7: ['MOZZARELLA', 'Cinderella']\n"
        }
      ],
      "execution_count": 4
    },
    {
      "id": "f270fe58-c5e3-4c50-83c1-293281ad8547",
      "cell_type": "code",
      "source": "# 9.1\ndef good():\n    return ['Harry', 'Ron', 'Hermione']\n\nprint(\"9.1:\", good())\n\n# 9.2\ndef get_odds():\n    for number in range(10):\n        if number % 2 != 0:\n            yield number\n",
      "metadata": {
        "trusted": true
      },
      "outputs": [
        {
          "name": "stdout",
          "output_type": "stream",
          "text": "9.1: ['Harry', 'Ron', 'Hermione']\n"
        }
      ],
      "execution_count": 5
    },
    {
      "id": "991096ae-232b-44bd-881b-7c4778f8161c",
      "cell_type": "code",
      "source": "# Using a for loop to get the third value\ncount = 0\nfor odd in get_odds():\n    count += 1\n    if count == 3:\n        print(\"9.2: The third odd number is\", odd)\n        break",
      "metadata": {
        "trusted": true
      },
      "outputs": [
        {
          "name": "stdout",
          "output_type": "stream",
          "text": "9.2: The third odd number is 5\n"
        }
      ],
      "execution_count": 6
    }
  ]
}