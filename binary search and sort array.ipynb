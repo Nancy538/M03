{
  "metadata": {
    "kernelspec": {
      "name": "python",
      "display_name": "Python (Pyodide)",
      "language": "python"
    },
    "language_info": {
      "codemirror_mode": {
        "name": "python",
        "version": 3
      },
      "file_extension": ".py",
      "mimetype": "text/x-python",
      "name": "python",
      "nbconvert_exporter": "python",
      "pygments_lexer": "ipython3",
      "version": "3.8"
    }
  },
  "nbformat_minor": 5,
  "nbformat": 4,
  "cells": [
    {
      "id": "6c24f54b-1b91-4f3a-8cc5-b2b8d9872797",
      "cell_type": "code",
      "source": "class Solution:\n    def sort012(self, arr):\n        low, mid, high = 0, 0, len(arr) - 1\n\n        while mid <= high:\n            if arr[mid] == 0:\n                if mid != low:\n                    arr[low], arr[mid] = arr[mid], arr[low]\n                low += 1\n                mid += 1\n            elif arr[mid] == 1:\n                mid += 1\n            else:  # arr[mid] == 2\n                if mid != high:\n                    arr[mid], arr[high] = arr[high], arr[mid]\n                high -= 1\n\n# Example usage\nif __name__ == \"__main__\":\n    arr = [0, 1, 2, 0, 1, 2]\n    Solution().sort012(arr)\n    print(\"\".join(map(str, arr)))  # Output: 001122\n",
      "metadata": {
        "trusted": true
      },
      "outputs": [
        {
          "name": "stdout",
          "output_type": "stream",
          "text": "001122\n"
        }
      ],
      "execution_count": 1
    },
    {
      "id": "6851b5a3-b847-414a-ac9f-f2ad517087c4",
      "cell_type": "code",
      "source": "#User function template for Python\nclass Solution:\n    def binarysearch(self, arr, k):\n        low = 0\n        high = len(arr) - 1\n\n        while low <= high:\n            mid = (low + high) // 2\n            if arr[mid] == k:\n                return mid\n            elif arr[mid] < k:\n                low = mid + 1\n            else:\n                high = mid - 1\n        \n        return -1\n\nif __name__ == \"__main__\":\n    arr = [1, 2, 3, 4, 5]\n    k = 4\n    sol = Solution()\n    print(sol.binarysearch(arr, k))\n",
      "metadata": {
        "trusted": true
      },
      "outputs": [
        {
          "name": "stdout",
          "output_type": "stream",
          "text": "3\n"
        }
      ],
      "execution_count": 3
    }
  ]
}